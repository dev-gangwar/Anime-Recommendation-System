{
 "cells": [
  {
   "cell_type": "code",
   "execution_count": 3,
   "source": [
    "import numpy as np\n",
    "import pandas as pd\n",
    "from sklearn.feature_extraction.text import CountVectorizer\n",
    "from sklearn.metrics.pairwise import cosine_similarity\n"
   ],
   "outputs": [],
   "metadata": {}
  },
  {
   "cell_type": "code",
   "execution_count": 8,
   "source": [
    "df=pd.read_csv('anime.csv')\n",
    "df=df.reset_index()\n",
    "df.head()"
   ],
   "outputs": [
    {
     "output_type": "execute_result",
     "data": {
      "text/html": [
       "<div>\n",
       "<style scoped>\n",
       "    .dataframe tbody tr th:only-of-type {\n",
       "        vertical-align: middle;\n",
       "    }\n",
       "\n",
       "    .dataframe tbody tr th {\n",
       "        vertical-align: top;\n",
       "    }\n",
       "\n",
       "    .dataframe thead th {\n",
       "        text-align: right;\n",
       "    }\n",
       "</style>\n",
       "<table border=\"1\" class=\"dataframe\">\n",
       "  <thead>\n",
       "    <tr style=\"text-align: right;\">\n",
       "      <th></th>\n",
       "      <th>index</th>\n",
       "      <th>Anime-PlanetID</th>\n",
       "      <th>Name</th>\n",
       "      <th>Alternative Name</th>\n",
       "      <th>Rating Score</th>\n",
       "      <th>Number Votes</th>\n",
       "      <th>Tags</th>\n",
       "      <th>Content Warning</th>\n",
       "      <th>Type</th>\n",
       "      <th>Episodes</th>\n",
       "      <th>Finished</th>\n",
       "      <th>Duration</th>\n",
       "      <th>StartYear</th>\n",
       "      <th>EndYear</th>\n",
       "      <th>Season</th>\n",
       "      <th>Studios</th>\n",
       "      <th>Synopsis</th>\n",
       "      <th>Url</th>\n",
       "    </tr>\n",
       "  </thead>\n",
       "  <tbody>\n",
       "    <tr>\n",
       "      <th>0</th>\n",
       "      <td>0</td>\n",
       "      <td>10</td>\n",
       "      <td>The Prince of Tennis</td>\n",
       "      <td>Tennis no Ouji-sama</td>\n",
       "      <td>4.037</td>\n",
       "      <td>10889</td>\n",
       "      <td>Comedy, Drama, Shounen, Sports, Tennis, Based ...</td>\n",
       "      <td>Unknown</td>\n",
       "      <td>TV</td>\n",
       "      <td>178</td>\n",
       "      <td>True</td>\n",
       "      <td>Unknown</td>\n",
       "      <td>2001</td>\n",
       "      <td>2005</td>\n",
       "      <td>Fall 2001</td>\n",
       "      <td>Production I.G, Trans Arts</td>\n",
       "      <td>Meet Ryoma Echizen, the cocky prince of tennis...</td>\n",
       "      <td>https://www.anime-planet.com/anime/the-prince-...</td>\n",
       "    </tr>\n",
       "    <tr>\n",
       "      <th>1</th>\n",
       "      <td>1</td>\n",
       "      <td>100</td>\n",
       "      <td>Neon Genesis Evangelion</td>\n",
       "      <td>Shinseiki Evangelion</td>\n",
       "      <td>4.248</td>\n",
       "      <td>54463</td>\n",
       "      <td>Drama, Mecha, Sci Fi, Conspiracy, Kaijuu, Lone...</td>\n",
       "      <td>Emotional Abuse, Explicit Violence, Mature The...</td>\n",
       "      <td>TV</td>\n",
       "      <td>26</td>\n",
       "      <td>True</td>\n",
       "      <td>Unknown</td>\n",
       "      <td>1995</td>\n",
       "      <td>1996</td>\n",
       "      <td>Fall 1995</td>\n",
       "      <td>GAINAX, Tatsunoko Production</td>\n",
       "      <td>In the future, a devastating event known as Se...</td>\n",
       "      <td>https://www.anime-planet.com/anime/neon-genesi...</td>\n",
       "    </tr>\n",
       "    <tr>\n",
       "      <th>2</th>\n",
       "      <td>2</td>\n",
       "      <td>1000</td>\n",
       "      <td>Full Metal Panic! The Second Raid</td>\n",
       "      <td>Unknown</td>\n",
       "      <td>4.35</td>\n",
       "      <td>23948</td>\n",
       "      <td>Action, Comedy, Mecha, Sci Fi, Shounen, Milita...</td>\n",
       "      <td>Explicit Violence, Nudity</td>\n",
       "      <td>TV</td>\n",
       "      <td>13</td>\n",
       "      <td>True</td>\n",
       "      <td>Unknown</td>\n",
       "      <td>2005</td>\n",
       "      <td>2005</td>\n",
       "      <td>Summer 2005</td>\n",
       "      <td>Kyoto Animation</td>\n",
       "      <td>Half a year has passed since Sousuke Sagara to...</td>\n",
       "      <td>https://www.anime-planet.com/anime/full-metal-...</td>\n",
       "    </tr>\n",
       "    <tr>\n",
       "      <th>3</th>\n",
       "      <td>3</td>\n",
       "      <td>10000</td>\n",
       "      <td>22/7: Shampoo no Nioi ga Shita</td>\n",
       "      <td>Unknown</td>\n",
       "      <td>2.8</td>\n",
       "      <td>131</td>\n",
       "      <td>Idols, School Life, CG Animation</td>\n",
       "      <td>Unknown</td>\n",
       "      <td>Music</td>\n",
       "      <td>1</td>\n",
       "      <td>True</td>\n",
       "      <td>5</td>\n",
       "      <td>2018</td>\n",
       "      <td>2018</td>\n",
       "      <td>Unknown</td>\n",
       "      <td>Unknown</td>\n",
       "      <td>The idol group 22/7 perform the song Shampoo n...</td>\n",
       "      <td>https://www.anime-planet.com/anime/22-7-shampo...</td>\n",
       "    </tr>\n",
       "    <tr>\n",
       "      <th>4</th>\n",
       "      <td>4</td>\n",
       "      <td>10001</td>\n",
       "      <td>Oshiri Tantei: Puputto Fumutto Kaiketsu Dance</td>\n",
       "      <td>Unknown</td>\n",
       "      <td>1.271</td>\n",
       "      <td>21</td>\n",
       "      <td>Family Friendly</td>\n",
       "      <td>Unknown</td>\n",
       "      <td>Web</td>\n",
       "      <td>1</td>\n",
       "      <td>True</td>\n",
       "      <td>2</td>\n",
       "      <td>2017</td>\n",
       "      <td>2017</td>\n",
       "      <td>Unknown</td>\n",
       "      <td>Toei Animation</td>\n",
       "      <td>No synopsis yet - check back soon!</td>\n",
       "      <td>https://www.anime-planet.com/anime/oshiri-tant...</td>\n",
       "    </tr>\n",
       "  </tbody>\n",
       "</table>\n",
       "</div>"
      ],
      "text/plain": [
       "   index  Anime-PlanetID                                           Name  \\\n",
       "0      0              10                           The Prince of Tennis   \n",
       "1      1             100                        Neon Genesis Evangelion   \n",
       "2      2            1000              Full Metal Panic! The Second Raid   \n",
       "3      3           10000                 22/7: Shampoo no Nioi ga Shita   \n",
       "4      4           10001  Oshiri Tantei: Puputto Fumutto Kaiketsu Dance   \n",
       "\n",
       "       Alternative Name Rating Score Number Votes  \\\n",
       "0   Tennis no Ouji-sama        4.037        10889   \n",
       "1  Shinseiki Evangelion        4.248        54463   \n",
       "2               Unknown         4.35        23948   \n",
       "3               Unknown          2.8          131   \n",
       "4               Unknown        1.271           21   \n",
       "\n",
       "                                                Tags  \\\n",
       "0  Comedy, Drama, Shounen, Sports, Tennis, Based ...   \n",
       "1  Drama, Mecha, Sci Fi, Conspiracy, Kaijuu, Lone...   \n",
       "2  Action, Comedy, Mecha, Sci Fi, Shounen, Milita...   \n",
       "3                   Idols, School Life, CG Animation   \n",
       "4                                    Family Friendly   \n",
       "\n",
       "                                     Content Warning   Type Episodes  \\\n",
       "0                                            Unknown     TV      178   \n",
       "1  Emotional Abuse, Explicit Violence, Mature The...     TV       26   \n",
       "2                          Explicit Violence, Nudity     TV       13   \n",
       "3                                            Unknown  Music        1   \n",
       "4                                            Unknown    Web        1   \n",
       "\n",
       "   Finished Duration StartYear EndYear       Season  \\\n",
       "0      True  Unknown      2001    2005    Fall 2001   \n",
       "1      True  Unknown      1995    1996    Fall 1995   \n",
       "2      True  Unknown      2005    2005  Summer 2005   \n",
       "3      True        5      2018    2018      Unknown   \n",
       "4      True        2      2017    2017      Unknown   \n",
       "\n",
       "                        Studios  \\\n",
       "0    Production I.G, Trans Arts   \n",
       "1  GAINAX, Tatsunoko Production   \n",
       "2               Kyoto Animation   \n",
       "3                       Unknown   \n",
       "4                Toei Animation   \n",
       "\n",
       "                                            Synopsis  \\\n",
       "0  Meet Ryoma Echizen, the cocky prince of tennis...   \n",
       "1  In the future, a devastating event known as Se...   \n",
       "2  Half a year has passed since Sousuke Sagara to...   \n",
       "3  The idol group 22/7 perform the song Shampoo n...   \n",
       "4                 No synopsis yet - check back soon!   \n",
       "\n",
       "                                                 Url  \n",
       "0  https://www.anime-planet.com/anime/the-prince-...  \n",
       "1  https://www.anime-planet.com/anime/neon-genesi...  \n",
       "2  https://www.anime-planet.com/anime/full-metal-...  \n",
       "3  https://www.anime-planet.com/anime/22-7-shampo...  \n",
       "4  https://www.anime-planet.com/anime/oshiri-tant...  "
      ]
     },
     "metadata": {},
     "execution_count": 8
    }
   ],
   "metadata": {}
  },
  {
   "cell_type": "code",
   "execution_count": 9,
   "source": [
    "df.columns"
   ],
   "outputs": [
    {
     "output_type": "execute_result",
     "data": {
      "text/plain": [
       "Index(['index', 'Anime-PlanetID', 'Name', 'Alternative Name', 'Rating Score',\n",
       "       'Number Votes', 'Tags', 'Content Warning', 'Type', 'Episodes',\n",
       "       'Finished', 'Duration', 'StartYear', 'EndYear', 'Season', 'Studios',\n",
       "       'Synopsis', 'Url'],\n",
       "      dtype='object')"
      ]
     },
     "metadata": {},
     "execution_count": 9
    }
   ],
   "metadata": {}
  },
  {
   "cell_type": "code",
   "execution_count": 10,
   "source": [
    "features=['Rating Score','Number Votes','Studios','Synopsis','Tags','Episodes']"
   ],
   "outputs": [],
   "metadata": {}
  },
  {
   "cell_type": "code",
   "execution_count": 11,
   "source": [
    "def newFeatures(row):\n",
    "    return str(row['Rating Score'])+\" \"+str(row['Number Votes'])+\" \"+str(row['Studios'])+\" \"+str(row['Synopsis'])+\" \"+str(row['Tags'])+\" \"+str(row['Episodes'])+\" \""
   ],
   "outputs": [],
   "metadata": {}
  },
  {
   "cell_type": "code",
   "execution_count": 12,
   "source": [
    "def get_title_from_index(index):\n",
    "    return df[df['index']==index]['Name'].values[0]"
   ],
   "outputs": [],
   "metadata": {}
  },
  {
   "cell_type": "code",
   "execution_count": 13,
   "source": [
    "def get_index_from_title(title):\n",
    "    return df[df['Name']==title]['index'].values[0]    "
   ],
   "outputs": [],
   "metadata": {}
  },
  {
   "cell_type": "code",
   "execution_count": 14,
   "source": [
    "df['newFeatures']=df.apply(newFeatures,axis=1)\n",
    "df['newFeatures'].head()"
   ],
   "outputs": [
    {
     "output_type": "execute_result",
     "data": {
      "text/plain": [
       "0    4.037 10889 Production I.G, Trans Arts Meet Ry...\n",
       "1    4.248 54463 GAINAX, Tatsunoko Production In th...\n",
       "2    4.35 23948 Kyoto Animation Half a year has pas...\n",
       "3    2.8 131 Unknown The idol group 22/7 perform th...\n",
       "4    1.271 21 Toei Animation No synopsis yet - chec...\n",
       "Name: newFeatures, dtype: object"
      ]
     },
     "metadata": {},
     "execution_count": 14
    }
   ],
   "metadata": {}
  },
  {
   "cell_type": "code",
   "execution_count": 15,
   "source": [
    "cv=CountVectorizer()\n",
    "countMatrix=cv.fit_transform(df['newFeatures'])"
   ],
   "outputs": [],
   "metadata": {}
  },
  {
   "cell_type": "code",
   "execution_count": 16,
   "source": [
    "anime_liked_by_user='One Piece'"
   ],
   "outputs": [],
   "metadata": {}
  },
  {
   "cell_type": "code",
   "execution_count": 17,
   "source": [
    "cosine_sim=cosine_similarity(countMatrix)"
   ],
   "outputs": [],
   "metadata": {}
  },
  {
   "cell_type": "code",
   "execution_count": 18,
   "source": [
    "liked_anime_index=cosine_sim[get_index_from_title(anime_liked_by_user)]\n",
    "similar_anime=list(enumerate(liked_anime_index))\n",
    "similar_anime.sort(key=lambda row:row[1],reverse=True)\n",
    "for i in range(10):\n",
    "    print(get_title_from_index(similar_anime[i][0]))"
   ],
   "outputs": [
    {
     "output_type": "stream",
     "name": "stdout",
     "text": [
      "One Piece\n",
      "One Piece Recap\n",
      "Princess Mononoke\n",
      "One Piece Movie 10: Strong World\n",
      "One Piece: Dream Soccer King!\n",
      "One Piece Movie 9: Episode of Chopper - The Miracle Winter Cherry Blossom\n",
      "Sekai Meisaku Douwa: Aladdin to Mahou no Lamp\n",
      "Nura: Rise of the Youkai Clan\n",
      "Nodame Cantabile: Special Lesson\n",
      "B-Legend! Battle B-Daman\n"
     ]
    }
   ],
   "metadata": {}
  },
  {
   "cell_type": "code",
   "execution_count": 20,
   "source": [
    "import pickle\n",
    "pickle.dump(df.to_dict(),open('./animeDict.pkl','wb'))\n",
    "similarity=cosine_similarity\n",
    "pickle.dump(similarity,open('./similarity.pkl','wb'))"
   ],
   "outputs": [],
   "metadata": {}
  }
 ],
 "metadata": {
  "interpreter": {
   "hash": "31f2aee4e71d21fbe5cf8b01ff0e069b9275f58929596ceb00d14d90e3e16cd6"
  },
  "kernelspec": {
   "display_name": "Python 3.9.12 64-bit",
   "language": "python",
   "name": "python3"
  },
  "language_info": {
   "codemirror_mode": {
    "name": "ipython",
    "version": 3
   },
   "file_extension": ".py",
   "mimetype": "text/x-python",
   "name": "python",
   "nbconvert_exporter": "python",
   "pygments_lexer": "ipython3",
   "version": "3.9.12"
  },
  "orig_nbformat": 4
 },
 "nbformat": 4,
 "nbformat_minor": 2
}